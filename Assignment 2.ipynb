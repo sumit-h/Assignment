{
 "cells": [
  {
   "cell_type": "markdown",
   "metadata": {},
   "source": [
    "# Task 1: "
   ]
  },
  {
   "cell_type": "markdown",
   "metadata": {},
   "source": [
    "# 1.1-->Write a Python Program to implement your own myreduce() function which works exactly like Python's built-in function reduce() "
   ]
  },
  {
   "cell_type": "code",
   "execution_count": 24,
   "metadata": {},
   "outputs": [
    {
     "name": "stdout",
     "output_type": "stream",
     "text": [
      "113\n"
     ]
    }
   ],
   "source": [
    "lst=[47,11,42,13]\n",
    "def myreduce(lst):\n",
    "    add=0\n",
    "    for i in lst:\n",
    "        add+=i\n",
    "    print(add)\n",
    "        \n",
    "myreduce(lst)\n",
    "    "
   ]
  },
  {
   "cell_type": "markdown",
   "metadata": {},
   "source": [
    "# 1.2-->Write a Python program to implement your own myfilter() function which works exactly like Python's built-in function filter() \n",
    " \n",
    " "
   ]
  },
  {
   "cell_type": "code",
   "execution_count": 23,
   "metadata": {},
   "outputs": [
    {
     "data": {
      "text/plain": [
       "[2, 4, 6, 8, 12]"
      ]
     },
     "execution_count": 23,
     "metadata": {},
     "output_type": "execute_result"
    }
   ],
   "source": [
    "data=[1,2,4,6,5,8,9,12]\n",
    "def myfilter(function_name, List):\n",
    "    r=[]\n",
    "    for i in List:\n",
    "        if function_name(i)==True:\n",
    "            r.append(i)\n",
    "    return r\n",
    "    \n",
    "    \n",
    "    \n",
    "def is_even(a):\n",
    "    if a%2==0:\n",
    "        return True\n",
    "    else:\n",
    "        return False\n",
    "\n",
    "myfilter(is_even,data)\n",
    "    "
   ]
  },
  {
   "cell_type": "markdown",
   "metadata": {},
   "source": [
    "# 2-->Implement List comprehensions to produce the following lists. Write List comprehensions to produce the following Lists \n"
   ]
  },
  {
   "cell_type": "code",
   "execution_count": 2,
   "metadata": {},
   "outputs": [
    {
     "data": {
      "text/plain": [
       "['A', 'C', 'A', 'D', 'G', 'I', 'L', 'D']"
      ]
     },
     "execution_count": 2,
     "metadata": {},
     "output_type": "execute_result"
    }
   ],
   "source": [
    "messege='ACADGILD'\n",
    "Iter=iter(messege)\n",
    "list(Iter)\n"
   ]
  },
  {
   "cell_type": "code",
   "execution_count": 13,
   "metadata": {},
   "outputs": [
    {
     "name": "stdout",
     "output_type": "stream",
     "text": [
      "['x', 'xx', 'xxx', 'xxxx', 'y', 'yy', 'yyy', 'yyyy', 'z', 'zz', 'zzz', 'zzzz']\n"
     ]
    }
   ],
   "source": [
    "list1=['x','y','z']\n",
    "result=[a*i for i in list1 for a in range(1,5)]\n",
    "print(result)\n",
    "\n"
   ]
  },
  {
   "cell_type": "code",
   "execution_count": 19,
   "metadata": {},
   "outputs": [
    {
     "name": "stdout",
     "output_type": "stream",
     "text": [
      "['x', 'y', 'z', 'xx', 'yy', 'zz', 'xxx', 'yyy', 'zzz', 'xxxx', 'yyyy', 'zzzz']\n"
     ]
    }
   ],
   "source": [
    "#['x', 'y', 'z', 'xx', 'yy', 'zz', 'xxx', 'yyy', 'zzz', 'xxxx', 'yyyy', 'zzzz'] \n",
    "l2=range(1,5)\n",
    "result1=[a*i for i in l2 for a in list1]\n",
    "print(result1)\n"
   ]
  },
  {
   "cell_type": "code",
   "execution_count": 23,
   "metadata": {},
   "outputs": [
    {
     "name": "stdout",
     "output_type": "stream",
     "text": [
      "[[2], [3], [4], [3], [4], [5], [4], [5], [6]]\n"
     ]
    }
   ],
   "source": [
    "#[[2], [3], [4], [3], [4], [5], [4], [5], [6]] \n",
    "List=[2,3,4]\n",
    "result3=[[ i+j]for i in List for j in range(0,3)]\n",
    "print(result3)\n"
   ]
  },
  {
   "cell_type": "code",
   "execution_count": 34,
   "metadata": {},
   "outputs": [
    {
     "name": "stdout",
     "output_type": "stream",
     "text": [
      "[[2, 3, 4, 5], [3, 4, 5, 6], [4, 5, 6, 7], [5, 6, 7, 8]]\n"
     ]
    }
   ],
   "source": [
    "#[[2, 3, 4, 5], [3, 4, 5, 6], [4, 5, 6, 7], [5, 6, 7, 8]] \n",
    "List1=[2,3,4,5]\n",
    "for k in range(0,3):\n",
    "    result4=[[i+j for i in List1 ] for j in range(0,4)]\n",
    "print(result4)"
   ]
  },
  {
   "cell_type": "code",
   "execution_count": 52,
   "metadata": {},
   "outputs": [
    {
     "name": "stdout",
     "output_type": "stream",
     "text": [
      "[(1, 1), (2, 1), (3, 1), (1, 2), (2, 2), (3, 2), (1, 3), (2, 3), (3, 3)]\n"
     ]
    }
   ],
   "source": [
    "#[(1, 1), (2, 1), (3, 1), (1, 2), (2, 2), (3, 2), (1, 3), (2, 3), (3, 3)] \n",
    "List3=[1,2,3]\n",
    "result5=[(j,i) for i in List3 for j in range(1,4) ]\n",
    "print(result5)\n",
    "\n"
   ]
  },
  {
   "cell_type": "markdown",
   "metadata": {},
   "source": [
    "# 3-->.Implement a function longestWord() that takes a list of words and returns the longest one. \n",
    "    "
   ]
  },
  {
   "cell_type": "code",
   "execution_count": 25,
   "metadata": {},
   "outputs": [
    {
     "data": {
      "text/plain": [
       "'LongestWordljfndfj'"
      ]
     },
     "execution_count": 25,
     "metadata": {},
     "output_type": "execute_result"
    }
   ],
   "source": [
    "l=[]\n",
    "\n",
    "def LongestWord(lst):\n",
    "    for i in lst:\n",
    "        a=len(i)\n",
    "        l.append(a)\n",
    "    \n",
    "        max1=0\n",
    "        for q in l:\n",
    "            if q>max1:\n",
    "                max1=q\n",
    "    \n",
    "    return lst[l.index(max1)]\n",
    "\n",
    "LongestWord(['sumit','a','ab','LongestWordljfndfj','abcd','ab655465656565cde','abcjhjhjdef','abcde'])\n",
    "\n"
   ]
  },
  {
   "cell_type": "markdown",
   "metadata": {},
   "source": [
    "# Task 2: "
   ]
  },
  {
   "cell_type": "markdown",
   "metadata": {},
   "source": [
    "# 1.1-->Write a Python Program(with class concepts) to find the area of the triangle using the below formula. area = (s*(s-a)*(s-b)*(s-c)) ** 0.5 Function to take the length of the sides of triangle from user should be defined in the parent class and function to calculate the area should be defined in subclass. \n",
    " \n",
    " "
   ]
  },
  {
   "cell_type": "code",
   "execution_count": 68,
   "metadata": {},
   "outputs": [],
   "source": [
    "class Triangle:\n",
    "    def __init__(self,a,b,c):\n",
    "        self.a=a\n",
    "        self.b=b\n",
    "        self.c=c\n",
    "        \n",
    "    \n",
    "        \n",
    "    def __str__(self):\n",
    "        return 'value of a,b and c is %d,%d,%d' %(self.a,self.b,self.c)\n",
    "\n",
    "        \n",
    "\n",
    "data=Triangle(89,85,25)\n",
    "\n",
    "   \n",
    " \n",
    "     "
   ]
  },
  {
   "cell_type": "code",
   "execution_count": 69,
   "metadata": {},
   "outputs": [
    {
     "name": "stdout",
     "output_type": "stream",
     "text": [
      "value of a,b and c is 89,85,25\n"
     ]
    },
    {
     "data": {
      "text/plain": [
       "'Area of Triangle is= 564295.593750 cm'"
      ]
     },
     "execution_count": 69,
     "metadata": {},
     "output_type": "execute_result"
    }
   ],
   "source": [
    "class Area(Triangle):\n",
    "    def __init__(self,*args):\n",
    "        super(Area,self).get_sides(*args)\n",
    "        \n",
    "        \n",
    "    def Area_is(self):\n",
    "            s=float((self.a+self.b+self.c)*0.5)\n",
    "            return 'Area of Triangle is= %f cm' %((s*(s-self.a)*(s-self.b)*(s-self.c))* 0.5)   \n",
    "            \n",
    "            \n",
    "        \n",
    "            \n",
    "print(data)\n",
    "Area.Area_is(data)"
   ]
  },
  {
   "cell_type": "markdown",
   "metadata": {},
   "source": [
    "# 1.2-->Write a function filter_long_words() that takes a list of words and an integer n and returns the list of words that are longer than n. \n",
    " \n",
    " "
   ]
  },
  {
   "cell_type": "code",
   "execution_count": 67,
   "metadata": {},
   "outputs": [
    {
     "data": {
      "text/plain": [
       "\"List of words that are longer than 13 are ['machine learning', 'Artificial intelligence', '12345678910231']\""
      ]
     },
     "execution_count": 67,
     "metadata": {},
     "output_type": "execute_result"
    }
   ],
   "source": [
    "word=['sumit','machine learning','Artificial intelligence','data science','12345678910231']\n",
    "Len_word=[]\n",
    "word1=[]\n",
    "def filter_long_words(word,num):\n",
    "    for i in word:\n",
    "        Len_word.append((len(i),i))\n",
    "    \n",
    "    for j in Len_word:\n",
    "        if j[0] > num:\n",
    "            word1.append(j[1])\n",
    "    \n",
    "    return 'List of words that are longer than {} are {}'.format(num,word1)\n",
    "\n",
    "\n",
    "            \n",
    "filter_long_words(word,13)\n",
    "\n",
    "        \n",
    "    \n",
    "    "
   ]
  },
  {
   "cell_type": "markdown",
   "metadata": {},
   "source": [
    "# 2.1-->Write a Python program using function concept that maps  list of words into a list of integers representing the lengths of the corresponding words​. \n",
    " Hint: ​If a list [ ab,cde,erty] is passed on to the python function output should come as [2,3,4] \n",
    " Here 2,3 and 4 are the lengths of the words in the list"
   ]
  },
  {
   "cell_type": "code",
   "execution_count": 76,
   "metadata": {},
   "outputs": [
    {
     "name": "stdout",
     "output_type": "stream",
     "text": [
      "[5, 16, 23, 12, 14]\n"
     ]
    }
   ],
   "source": [
    "word=['sumit','machine learning','Artificial intelligence','data science','12345678910231']\n",
    "word2=[]\n",
    "def Wordto_int(List):\n",
    "    for i in word:\n",
    "        word2.append(len(i))\n",
    "    print(word2)\n",
    "        \n",
    "Wordto_int(word)\n",
    "        \n",
    "        "
   ]
  },
  {
   "cell_type": "markdown",
   "metadata": {},
   "source": [
    "# 2.2--> Write a Python function which takes a character (i.e. a string of length 1) and returns True if it is a vowel, False otherwise. \n",
    " \n",
    " "
   ]
  },
  {
   "cell_type": "code",
   "execution_count": 26,
   "metadata": {},
   "outputs": [
    {
     "name": "stdout",
     "output_type": "stream",
     "text": [
      "True\n",
      "False\n",
      "False\n",
      "False\n",
      "True\n",
      "True\n",
      "True\n",
      "True\n",
      "False\n"
     ]
    }
   ],
   "source": [
    "def Is_vowel(a):\n",
    "    vowel=['a','e','i','o','u','A','E','I','O','U']\n",
    "    print(a in vowel)\n",
    "        \n",
    "c=['a','b','c','d','e','i','O','A','F']\n",
    "b=list(map(Is_vowel,c))"
   ]
  },
  {
   "cell_type": "code",
   "execution_count": null,
   "metadata": {},
   "outputs": [],
   "source": []
  },
  {
   "cell_type": "code",
   "execution_count": null,
   "metadata": {},
   "outputs": [],
   "source": []
  },
  {
   "cell_type": "code",
   "execution_count": null,
   "metadata": {},
   "outputs": [],
   "source": []
  },
  {
   "cell_type": "code",
   "execution_count": null,
   "metadata": {},
   "outputs": [],
   "source": []
  }
 ],
 "metadata": {
  "kernelspec": {
   "display_name": "Python 3",
   "language": "python",
   "name": "python3"
  },
  "language_info": {
   "codemirror_mode": {
    "name": "ipython",
    "version": 3
   },
   "file_extension": ".py",
   "mimetype": "text/x-python",
   "name": "python",
   "nbconvert_exporter": "python",
   "pygments_lexer": "ipython3",
   "version": "3.7.4"
  }
 },
 "nbformat": 4,
 "nbformat_minor": 2
}
