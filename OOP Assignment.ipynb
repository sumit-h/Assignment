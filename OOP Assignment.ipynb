{
 "cells": [
  {
   "cell_type": "code",
   "execution_count": 18,
   "metadata": {},
   "outputs": [],
   "source": [
    "class A:\n",
    "    def __init__(self,a,b):\n",
    "        self.a=a\n",
    "        self.b=b\n",
    "        \n",
    "    def test(self):\n",
    "        c=self.a+self.b\n",
    "        return \"Addition is(test function from class A) :\", c\n",
    "    "
   ]
  },
  {
   "cell_type": "code",
   "execution_count": 31,
   "metadata": {},
   "outputs": [],
   "source": [
    "class B:\n",
    "    def __init__(self,a,b):\n",
    "        self.a=a\n",
    "        self.b=b\n",
    "        \n",
    "    def test(self):\n",
    "        c=self.a-self.b\n",
    "        return \"Substraction is(test function from class B) :\", c\n",
    "    \n",
    "        "
   ]
  },
  {
   "cell_type": "code",
   "execution_count": 35,
   "metadata": {},
   "outputs": [
    {
     "name": "stdout",
     "output_type": "stream",
     "text": [
      "('Addition is(test function from class A) :', 30)\n",
      "('Substraction is(test function from class B) :', 23)\n"
     ]
    }
   ],
   "source": [
    "class C(A,B):\n",
    "    def __init__(self,*args):\n",
    "        super(A,self).__init__(*args)\n",
    "        super(B,self).__init__(*args)\n",
    "add=A(23,7)\n",
    "sub=B(30,7)\n",
    "print(add.test())\n",
    "print(sub.test())"
   ]
  },
  {
   "cell_type": "code",
   "execution_count": null,
   "metadata": {},
   "outputs": [],
   "source": []
  }
 ],
 "metadata": {
  "kernelspec": {
   "display_name": "Python 3",
   "language": "python",
   "name": "python3"
  },
  "language_info": {
   "codemirror_mode": {
    "name": "ipython",
    "version": 3
   },
   "file_extension": ".py",
   "mimetype": "text/x-python",
   "name": "python",
   "nbconvert_exporter": "python",
   "pygments_lexer": "ipython3",
   "version": "3.7.4"
  }
 },
 "nbformat": 4,
 "nbformat_minor": 2
}
