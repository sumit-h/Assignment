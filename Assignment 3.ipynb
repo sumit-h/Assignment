{
 "cells": [
  {
   "cell_type": "markdown",
   "metadata": {},
   "source": [
    "# Task 1: "
   ]
  },
  {
   "cell_type": "markdown",
   "metadata": {},
   "source": [
    "# 1-->Write a function to compute 5/0 and use try/except to catch the exceptions. \n"
   ]
  },
  {
   "cell_type": "code",
   "execution_count": 2,
   "metadata": {},
   "outputs": [
    {
     "name": "stdout",
     "output_type": "stream",
     "text": [
      "enter an integer number kk\n",
      "Please Enter an interger value\n",
      "enter an integer number 8\n",
      "Error: can not be divided by zero\n"
     ]
    }
   ],
   "source": [
    "def Exception(b=0):\n",
    "    while True:\n",
    "        \n",
    "        try:\n",
    "            a=int(input('enter an integer number '))\n",
    "            return a/b\n",
    "        \n",
    "        except ZeroDivisionError:\n",
    "            print('Error: can not be divided by zero')\n",
    "            break\n",
    "            \n",
    "        except ValueError:\n",
    "            print(\"Please Enter an interger value\")\n",
    "            continue\n",
    "            \n",
    "            \n",
    "        else:\n",
    "            break\n",
    "        \n",
    "    \n",
    "Exception()       "
   ]
  },
  {
   "cell_type": "markdown",
   "metadata": {},
   "source": [
    "# 2--> Implement a Python program to generate all sentences where subject is in [\"Americans\", \"Indians\"] and verb is in [\"Play\", \"watch\"] and the object is in [\"Baseball\",\"cricket\"]. \n",
    "  "
   ]
  },
  {
   "cell_type": "markdown",
   "metadata": {},
   "source": [
    "Output should come as below: \n",
    " \n",
    "Americans  play Baseball. \n",
    "Americans  play Cricket. \n",
    "Americans  watch Baseball. \n",
    "Americans  watch Cricket. \n",
    "Indians play Baseball. \n",
    "Indians play Cricket. \n",
    "Indians watch Baseball. \n",
    "Indians watch Cricket. "
   ]
  },
  {
   "cell_type": "code",
   "execution_count": 6,
   "metadata": {},
   "outputs": [
    {
     "name": "stdout",
     "output_type": "stream",
     "text": [
      "Americans  Play Baseball\n",
      "Americans  Play Cricket\n",
      "Americans  Watch Baseball\n",
      "Americans  Watch Cricket\n",
      "Indians  Play Baseball\n",
      "Indians  Play Cricket\n",
      "Indians  Watch Baseball\n",
      "Indians  Watch Cricket\n"
     ]
    }
   ],
   "source": [
    "sub=['Americans','Indians']\n",
    "verb=['Play','Watch']\n",
    "obj=['Baseball','Cricket']\n",
    "output=[(s+' '+' '+v+' '+o ) for s in sub for v in verb for o in obj]\n",
    "for i in output:\n",
    "    print(i)\n",
    "\n"
   ]
  },
  {
   "cell_type": "markdown",
   "metadata": {},
   "source": [
    "# Task 2:"
   ]
  },
  {
   "cell_type": "markdown",
   "metadata": {},
   "source": [
    "# Write a function so that the columns of the output matrix are powers of the input vector.  The order of the powers is determined by the increasing boolean argument. Specifically, when              increasing is False, the i-th output column is the input vector raised element-wise to the power                of N - i - 1.  \n",
    "\n",
    "HINT: Such a matrix with a geometric progression in each row is named for Alexandre Theophile Vandermonde. \n",
    " \n",
    " "
   ]
  },
  {
   "cell_type": "code",
   "execution_count": 5,
   "metadata": {},
   "outputs": [
    {
     "name": "stdout",
     "output_type": "stream",
     "text": [
      "[8, 4, 2, 1]\n",
      "[343, 49, 7, 1]\n",
      "[125, 25, 5, 1]\n",
      "[512, 64, 8, 1]\n"
     ]
    }
   ],
   "source": [
    "def matrix(m):\n",
    "    r=[]\n",
    "    mat=[]\n",
    "    for i in m:\n",
    "        r=[]\n",
    "        for j in range(len(m)-1,-1,-1):\n",
    "            r.append(i**j)\n",
    "        mat.append(r)\n",
    "    return mat\n",
    "lst=[2,7,5,8]\n",
    "Matrix=matrix(lst)\n",
    "for i in Matrix:\n",
    "    print(i)"
   ]
  },
  {
   "cell_type": "code",
   "execution_count": null,
   "metadata": {},
   "outputs": [],
   "source": []
  }
 ],
 "metadata": {
  "kernelspec": {
   "display_name": "Python 3",
   "language": "python",
   "name": "python3"
  },
  "language_info": {
   "codemirror_mode": {
    "name": "ipython",
    "version": 3
   },
   "file_extension": ".py",
   "mimetype": "text/x-python",
   "name": "python",
   "nbconvert_exporter": "python",
   "pygments_lexer": "ipython3",
   "version": "3.7.4"
  }
 },
 "nbformat": 4,
 "nbformat_minor": 2
}
